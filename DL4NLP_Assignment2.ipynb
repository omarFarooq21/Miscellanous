{
  "cells": [
    {
      "cell_type": "markdown",
      "metadata": {
        "id": "view-in-github",
        "colab_type": "text"
      },
      "source": [
        "<a href=\"https://colab.research.google.com/github/omarFarooq21/Miscellanous/blob/main/DL4NLP_Assignment2.ipynb\" target=\"_parent\"><img src=\"https://colab.research.google.com/assets/colab-badge.svg\" alt=\"Open In Colab\"/></a>"
      ]
    },
    {
      "cell_type": "markdown",
      "metadata": {
        "id": "UfOnbLPD2JYv"
      },
      "source": [
        "# **HOMEWORK 2**\n",
        "\n",
        "*   **Run following cells to mount drive and import all necessary dependencies**"
      ]
    },
    {
      "cell_type": "code",
      "execution_count": null,
      "metadata": {
        "id": "5BSIpesS1VEU",
        "colab": {
          "base_uri": "https://localhost:8080/"
        },
        "outputId": "bef2dcba-de23-4b28-9eac-417484d9f67d"
      },
      "outputs": [
        {
          "output_type": "stream",
          "name": "stdout",
          "text": [
            "Drive already mounted at /content/drive; to attempt to forcibly remount, call drive.mount(\"/content/drive\", force_remount=True).\n",
            "/content/drive/MyDrive/Colab Files/DL4NLP\n"
          ]
        }
      ],
      "source": [
        "# Mount Drive\n",
        "from google.colab import drive\n",
        "drive.mount('/content/drive')\n",
        "\n",
        "# path to store the data\n",
        "%cd /content/drive/MyDrive/Colab Files/DL4NLP"
      ]
    },
    {
      "cell_type": "code",
      "execution_count": null,
      "metadata": {
        "id": "Ckq7h5991eB8",
        "colab": {
          "base_uri": "https://localhost:8080/"
        },
        "outputId": "c9ca0cb0-7023-47cd-af8e-1e5f289484ff"
      },
      "outputs": [
        {
          "output_type": "stream",
          "name": "stdout",
          "text": [
            "Requirement already satisfied: datasets in /usr/local/lib/python3.10/dist-packages (2.19.2)\n",
            "Requirement already satisfied: filelock in /usr/local/lib/python3.10/dist-packages (from datasets) (3.14.0)\n",
            "Requirement already satisfied: numpy>=1.17 in /usr/local/lib/python3.10/dist-packages (from datasets) (1.25.2)\n",
            "Requirement already satisfied: pyarrow>=12.0.0 in /usr/local/lib/python3.10/dist-packages (from datasets) (14.0.2)\n",
            "Requirement already satisfied: pyarrow-hotfix in /usr/local/lib/python3.10/dist-packages (from datasets) (0.6)\n",
            "Requirement already satisfied: dill<0.3.9,>=0.3.0 in /usr/local/lib/python3.10/dist-packages (from datasets) (0.3.8)\n",
            "Requirement already satisfied: pandas in /usr/local/lib/python3.10/dist-packages (from datasets) (2.0.3)\n",
            "Requirement already satisfied: requests>=2.32.1 in /usr/local/lib/python3.10/dist-packages (from datasets) (2.32.3)\n",
            "Requirement already satisfied: tqdm>=4.62.1 in /usr/local/lib/python3.10/dist-packages (from datasets) (4.66.4)\n",
            "Requirement already satisfied: xxhash in /usr/local/lib/python3.10/dist-packages (from datasets) (3.4.1)\n",
            "Requirement already satisfied: multiprocess in /usr/local/lib/python3.10/dist-packages (from datasets) (0.70.16)\n",
            "Requirement already satisfied: fsspec[http]<=2024.3.1,>=2023.1.0 in /usr/local/lib/python3.10/dist-packages (from datasets) (2023.6.0)\n",
            "Requirement already satisfied: aiohttp in /usr/local/lib/python3.10/dist-packages (from datasets) (3.9.5)\n",
            "Requirement already satisfied: huggingface-hub>=0.21.2 in /usr/local/lib/python3.10/dist-packages (from datasets) (0.23.2)\n",
            "Requirement already satisfied: packaging in /usr/local/lib/python3.10/dist-packages (from datasets) (24.0)\n",
            "Requirement already satisfied: pyyaml>=5.1 in /usr/local/lib/python3.10/dist-packages (from datasets) (6.0.1)\n",
            "Requirement already satisfied: aiosignal>=1.1.2 in /usr/local/lib/python3.10/dist-packages (from aiohttp->datasets) (1.3.1)\n",
            "Requirement already satisfied: attrs>=17.3.0 in /usr/local/lib/python3.10/dist-packages (from aiohttp->datasets) (23.2.0)\n",
            "Requirement already satisfied: frozenlist>=1.1.1 in /usr/local/lib/python3.10/dist-packages (from aiohttp->datasets) (1.4.1)\n",
            "Requirement already satisfied: multidict<7.0,>=4.5 in /usr/local/lib/python3.10/dist-packages (from aiohttp->datasets) (6.0.5)\n",
            "Requirement already satisfied: yarl<2.0,>=1.0 in /usr/local/lib/python3.10/dist-packages (from aiohttp->datasets) (1.9.4)\n",
            "Requirement already satisfied: async-timeout<5.0,>=4.0 in /usr/local/lib/python3.10/dist-packages (from aiohttp->datasets) (4.0.3)\n",
            "Requirement already satisfied: typing-extensions>=3.7.4.3 in /usr/local/lib/python3.10/dist-packages (from huggingface-hub>=0.21.2->datasets) (4.12.1)\n",
            "Requirement already satisfied: charset-normalizer<4,>=2 in /usr/local/lib/python3.10/dist-packages (from requests>=2.32.1->datasets) (3.3.2)\n",
            "Requirement already satisfied: idna<4,>=2.5 in /usr/local/lib/python3.10/dist-packages (from requests>=2.32.1->datasets) (3.7)\n",
            "Requirement already satisfied: urllib3<3,>=1.21.1 in /usr/local/lib/python3.10/dist-packages (from requests>=2.32.1->datasets) (2.0.7)\n",
            "Requirement already satisfied: certifi>=2017.4.17 in /usr/local/lib/python3.10/dist-packages (from requests>=2.32.1->datasets) (2024.6.2)\n",
            "Requirement already satisfied: python-dateutil>=2.8.2 in /usr/local/lib/python3.10/dist-packages (from pandas->datasets) (2.8.2)\n",
            "Requirement already satisfied: pytz>=2020.1 in /usr/local/lib/python3.10/dist-packages (from pandas->datasets) (2023.4)\n",
            "Requirement already satisfied: tzdata>=2022.1 in /usr/local/lib/python3.10/dist-packages (from pandas->datasets) (2024.1)\n",
            "Requirement already satisfied: six>=1.5 in /usr/local/lib/python3.10/dist-packages (from python-dateutil>=2.8.2->pandas->datasets) (1.16.0)\n"
          ]
        },
        {
          "output_type": "stream",
          "name": "stderr",
          "text": [
            "[nltk_data] Downloading package punkt to /root/nltk_data...\n",
            "[nltk_data]   Package punkt is already up-to-date!\n"
          ]
        }
      ],
      "source": [
        "# Import Dependencies\n",
        "\n",
        "!pip install datasets\n",
        "from datasets import load_dataset\n",
        "\n",
        "import torch\n",
        "import torch.nn as nn\n",
        "from torch.utils.data import Dataset, DataLoader\n",
        "\n",
        "import numpy as np\n",
        "\n",
        "from tqdm import tqdm\n",
        "from nltk import word_tokenize\n",
        "import nltk\n",
        "nltk.download('punkt')\n",
        "\n",
        "from scipy.stats import pearsonr, kendalltau\n",
        "\n",
        "from pprint import pprint\n",
        "\n",
        "import matplotlib.pyplot as plt\n",
        "\n",
        "import gdown"
      ]
    },
    {
      "cell_type": "code",
      "execution_count": null,
      "metadata": {
        "id": "78N2ACb31xdF"
      },
      "outputs": [],
      "source": [
        "# Specify random seed\n",
        "def seed_everything(seed: int):\n",
        "    import random, os\n",
        "    import numpy as np\n",
        "    import torch\n",
        "\n",
        "    random.seed(seed)\n",
        "    os.environ['PYTHONHASHSEED'] = str(seed)\n",
        "    np.random.seed(seed)\n",
        "    torch.manual_seed(seed)\n",
        "    torch.cuda.manual_seed(seed)\n",
        "    torch.backends.cudnn.deterministic = True\n",
        "    torch.backends.cudnn.benchmark = True"
      ]
    },
    {
      "cell_type": "markdown",
      "metadata": {
        "id": "RQisbu2015X0"
      },
      "source": [
        "# **Task 1: Getting to Know Pytorch: Semantic Textual Similarity**\n",
        "\n",
        "In this task, we define semantic textual similarity (STS) as a supervised regression task in which the semantic similarity of two pieces of text (typically sentences) should be determined."
      ]
    },
    {
      "cell_type": "markdown",
      "metadata": {
        "id": "teX4DZdmMw_o"
      },
      "source": [
        "### **Task 1.1: Data Preparation**\n",
        "\n",
        "First we should load the dataset for this task. Each entry of this dataset contains one English sentence pair and their similarity score. The data is structured like both Python dictionary and Pandas DataFrame.\n",
        "*   **Run the following cell to load the dataset:**\n"
      ]
    },
    {
      "cell_type": "code",
      "execution_count": null,
      "metadata": {
        "id": "eo9F4W_D10Qf",
        "colab": {
          "base_uri": "https://localhost:8080/"
        },
        "outputId": "0946ed82-b6b5-445a-be37-a3c09bc6fdfa"
      },
      "outputs": [
        {
          "output_type": "execute_result",
          "data": {
            "text/plain": [
              "Dataset({\n",
              "    features: ['sentence1', 'sentence2', 'similarity_score'],\n",
              "    num_rows: 1500\n",
              "})"
            ]
          },
          "metadata": {},
          "execution_count": 212
        }
      ],
      "source": [
        "train_set = load_dataset(\"stsb_multi_mt\", \"en\", split='train')\n",
        "dev_set = load_dataset(\"stsb_multi_mt\", \"en\", split='dev')\n",
        "\n",
        "dev_set"
      ]
    },
    {
      "cell_type": "markdown",
      "metadata": {
        "id": "w2EVjXYN38qW"
      },
      "source": [
        "**a)** To get familiar with the data format, print following information:\n",
        "*  **The first entry of `train_set`**\n",
        "*  **the size of `dev_set`**\n",
        "*  **the first 3 `sentence1` in `train_set`**\n"
      ]
    },
    {
      "cell_type": "code",
      "execution_count": null,
      "metadata": {
        "id": "MXxR0oIq8UUh",
        "colab": {
          "base_uri": "https://localhost:8080/"
        },
        "outputId": "b68c5679-92ce-4ca8-dffa-d0f71da77892"
      },
      "outputs": [
        {
          "output_type": "stream",
          "name": "stdout",
          "text": [
            "###The first entry of 'trainset':\n",
            " {'sentence1': 'A plane is taking off.', 'sentence2': 'An air plane is taking off.', 'similarity_score': 5.0}\n",
            "###The size of 'dev_set':\n",
            " (1500, 3)\n",
            "###The first 3 'sentence1' in 'train_set': \n",
            " {'sentence1': ['A plane is taking off.', 'A man is playing a large flute.', 'A man is spreading shreded cheese on a pizza.'], 'sentence2': ['An air plane is taking off.', 'A man is playing a flute.', 'A man is spreading shredded cheese on an uncooked pizza.'], 'similarity_score': [5.0, 3.799999952316284, 3.799999952316284]}\n"
          ]
        },
        {
          "output_type": "execute_result",
          "data": {
            "text/plain": [
              "(5749, 3)"
            ]
          },
          "metadata": {},
          "execution_count": 213
        }
      ],
      "source": [
        "# TODO: YOUR CODE HERE\n",
        "print(f'###The first entry of \\'trainset\\':\\n {train_set[0]}')\n",
        "print(f'###The size of \\'dev_set\\':\\n {dev_set.shape}')\n",
        "print(f'###The first 3 \\'sentence1\\' in \\'train_set\\': \\n {train_set[0:3]}')\n",
        "train_set.shape"
      ]
    },
    {
      "cell_type": "code",
      "execution_count": null,
      "metadata": {
        "id": "X9I09fRy_D7g",
        "colab": {
          "base_uri": "https://localhost:8080/"
        },
        "outputId": "2968df1f-d881-479e-bd4d-afc33f706d5d"
      },
      "outputs": [
        {
          "output_type": "execute_result",
          "data": {
            "text/plain": [
              "{'sentence1': ['A plane is taking off.',\n",
              "  'A man is playing a large flute.',\n",
              "  'A man is spreading shreded cheese on a pizza.'],\n",
              " 'sentence2': ['An air plane is taking off.',\n",
              "  'A man is playing a flute.',\n",
              "  'A man is spreading shredded cheese on an uncooked pizza.'],\n",
              " 'similarity_score': [5.0, 3.799999952316284, 3.799999952316284]}"
            ]
          },
          "metadata": {},
          "execution_count": 214
        }
      ],
      "source": [
        "train_set[:3]\n"
      ]
    },
    {
      "cell_type": "markdown",
      "metadata": {
        "id": "krKdguNXXWTd"
      },
      "source": [
        "## **Task 1.1.1: Sentence Embedding with FastText**\n",
        "We will use the averages of the words using [FastText embeddings](https://fasttext.cc/docs/en/english-vectors.html) to embed both sentences.\n",
        "\n",
        "* **Run the following cell to download the embeddings.**"
      ]
    },
    {
      "cell_type": "code",
      "execution_count": null,
      "metadata": {
        "colab": {
          "background_save": true,
          "base_uri": "https://localhost:8080/"
        },
        "id": "NAHHJHwJ9Bs2",
        "outputId": "a23c1662-5c6c-44c8-968f-f69c45b9fdba"
      },
      "outputs": [
        {
          "metadata": {
            "tags": null
          },
          "name": "stdout",
          "output_type": "stream",
          "text": [
            "--2024-06-05 13:17:11--  https://dl.fbaipublicfiles.com/fasttext/vectors-english/wiki-news-300d-1M.vec.zip\n",
            "Resolving dl.fbaipublicfiles.com (dl.fbaipublicfiles.com)... 18.173.166.51, 18.173.166.31, 18.173.166.48, ...\n",
            "Connecting to dl.fbaipublicfiles.com (dl.fbaipublicfiles.com)|18.173.166.51|:443... connected.\n",
            "HTTP request sent, awaiting response... 200 OK\n",
            "Length: 681808098 (650M) [application/zip]\n",
            "Saving to: ‘wiki-news-300d-1M.vec.zip.2’\n",
            "\n",
            "wiki-news-300d-1M.v 100%[===================>] 650.22M  55.1MB/s    in 13s     \n",
            "\n",
            "2024-06-05 13:17:24 (49.7 MB/s) - ‘wiki-news-300d-1M.vec.zip.2’ saved [681808098/681808098]\n",
            "\n",
            "Archive:  wiki-news-300d-1M.vec.zip\n",
            "replace wiki-news-300d-1M.vec? [y]es, [n]o, [A]ll, [N]one, [r]ename: "
          ]
        }
      ],
      "source": [
        "# download word emebddings to your drive and unzip the file (run this cell only when you haven't downloaded the emb file yet.)\n",
        "!wget https://dl.fbaipublicfiles.com/fasttext/vectors-english/wiki-news-300d-1M.vec.zip\n",
        "!unzip wiki-news-300d-1M.vec.zip"
      ]
    },
    {
      "cell_type": "markdown",
      "metadata": {
        "id": "S7DXiaUCX1Ob"
      },
      "source": [
        "**b)**    **Implement the function** `load _embeddings` to read the word embeddings into a Python dictionary that maps every token to the corresponding vector and returns word embeddings. Represent the vectors as Numpy arrays. Only load the embeddings of the first 30,000 tokens in the file"
      ]
    },
    {
      "cell_type": "code",
      "execution_count": null,
      "metadata": {
        "id": "Wedlye9b-Yhi",
        "colab": {
          "base_uri": "https://localhost:8080/"
        },
        "outputId": "abdfdd95-4f82-4228-c61f-c72a828aa5dc"
      },
      "outputs": [
        {
          "output_type": "stream",
          "name": "stdout",
          "text": [
            "Number of words: 999994. Number of word vecs: 300\n",
            "\n"
          ]
        }
      ],
      "source": [
        "def load_embeddings(file=\"wiki-news-300d-1M.vec\"):\n",
        "  # TODO: YOUR CODE HERE\n",
        "  dictionary = {}\n",
        "  fin = open(file, 'r', encoding='utf-8', newline='\\n', errors='ignore')\n",
        "  dimensionality = fin.readline().split(' ')\n",
        "  print(f'Number of words: {dimensionality[0]}. Number of word vecs: {dimensionality[1]}')\n",
        "  count = 30000\n",
        "  i=0\n",
        "  for each_line in fin:\n",
        "    tokens = each_line.rstrip().split(' ')\n",
        "    #print(tokens[0], tokens[1], tokens[300])\n",
        "    dictionary[tokens[0]] = np.array(list(map(float, tokens[1:])))\n",
        "    i+=1\n",
        "    if(i == count):\n",
        "      break\n",
        "  #print(dictionary.get(','))\n",
        "  return dictionary\n",
        "\n",
        "dict = load_embeddings()"
      ]
    },
    {
      "cell_type": "markdown",
      "metadata": {
        "id": "44sr-HSF_XYr"
      },
      "source": [
        "\n",
        "**c)**   **Print** the size of the dictionary and the first 10 dimensions of the embedding for the word \"Frequency\"."
      ]
    },
    {
      "cell_type": "code",
      "execution_count": null,
      "metadata": {
        "id": "CXNBP-bG_i7w",
        "colab": {
          "base_uri": "https://localhost:8080/"
        },
        "outputId": "6bbcaadd-0935-4056-a11d-5314ba7af45d"
      },
      "outputs": [
        {
          "output_type": "stream",
          "name": "stdout",
          "text": [
            "# length of dictionary:  30000\n",
            "## First 10 dimensions of the embedding for the word 'Freqeuncy':\n",
            " [-0.1752  0.0877  0.0047  0.0691 -0.0453 -0.2031 -0.2423  0.1085  0.092\n",
            "  0.1646]\n"
          ]
        }
      ],
      "source": [
        "# TODO: YOUR CODE HERE\n",
        "print(f'# length of dictionary: ', len(dict))\n",
        "embedding = dict.get('Frequency')\n",
        "print(f'## First 10 dimensions of the embedding for the word \\'Freqeuncy\\':\\n {embedding[:10]}')"
      ]
    },
    {
      "cell_type": "markdown",
      "metadata": {
        "id": "viW2pAejCexV"
      },
      "source": [
        "\n",
        "**d)**  **Implement a function** `tokenize` that tokenizes a sentence using nltk.word_tokenize and returns a list of tokens for given sentence.\n",
        "\n"
      ]
    },
    {
      "cell_type": "code",
      "execution_count": null,
      "metadata": {
        "id": "L7fheZ3ECIIn",
        "colab": {
          "base_uri": "https://localhost:8080/"
        },
        "outputId": "3a06bdfc-0a6f-4911-f3ac-194c27d6a338"
      },
      "outputs": [
        {
          "output_type": "stream",
          "name": "stdout",
          "text": [
            "['Hello', ',', 'World', '!']\n"
          ]
        },
        {
          "output_type": "execute_result",
          "data": {
            "text/plain": [
              "array([ 0.1073,  0.0089,  0.0006,  0.0055, -0.0646, -0.06  ,  0.045 ,\n",
              "       -0.0133, -0.0357,  0.043 ])"
            ]
          },
          "metadata": {},
          "execution_count": 216
        }
      ],
      "source": [
        "def tokenize(sentence):\n",
        "  # TODO: YOUR CODE HERE\n",
        "  tokens = word_tokenize(sentence)\n",
        "  return tokens\n",
        "\n",
        "tokenized = tokenize(\"Hello, World!\")\n",
        "print(tokenized)\n",
        "comma = dict.get(',')\n",
        "comma[:10]"
      ]
    },
    {
      "cell_type": "markdown",
      "metadata": {
        "id": "uSmwKpAtCw1n"
      },
      "source": [
        "**e)**  **Print** the tokenized `sentence1` and `sentence2` of the 20th entry in the training set."
      ]
    },
    {
      "cell_type": "code",
      "execution_count": null,
      "metadata": {
        "id": "JSNHXITTC4rM",
        "colab": {
          "base_uri": "https://localhost:8080/"
        },
        "outputId": "4b79f6b5-824c-4670-9c7f-421b113b402f"
      },
      "outputs": [
        {
          "output_type": "stream",
          "name": "stdout",
          "text": [
            "Tokenized sentence 1: ['A', 'man', 'pours', 'oil', 'into', 'a', 'pot', '.']\n",
            "Tokenized sentence 2: ['A', 'man', 'pours', 'wine', 'in', 'a', 'pot', '.']\n"
          ]
        }
      ],
      "source": [
        "# TODO: YOUR CODE HERE\n",
        "sentence1, sentence2, simscore= train_set[20]\n",
        "sentence1 = train_set[20].get(sentence1)\n",
        "sentence2 = train_set[20].get(sentence2)\n",
        "\n",
        "print(f'Tokenized sentence 1: {tokenize(sentence1)}')\n",
        "print(f'Tokenized sentence 2: {tokenize(sentence2)}')"
      ]
    },
    {
      "cell_type": "markdown",
      "metadata": {
        "id": "oEA85XYIDLjc"
      },
      "source": [
        "**f)** **Implement a function** `embed_sentence` that maps a sentence to its embedding. The sentence-level embedding should be the average of the embeddings of its tokens. If a token does not exist in the vocabulary of FastText, embed this token as a 0-vector with the same dimensions as the FastText embeddings.\n"
      ]
    },
    {
      "cell_type": "code",
      "execution_count": null,
      "metadata": {
        "id": "EvzgtteNDVqE"
      },
      "outputs": [],
      "source": [
        "def embed_sentence(sentence, word2emb):\n",
        "  # TODO: YOUR CODE HERE\n",
        "  sentence_embedding = np.zeros(300)\n",
        "  tokens = tokenize(sentence)\n",
        "  total_words = 0\n",
        "  for i, word in enumerate(tokens):\n",
        "    embeddings = word2emb.get(word)\n",
        "    if embeddings is not None:\n",
        "      sentence_embedding += embeddings\n",
        "    else:\n",
        "      embeddings = np.zeros(300)\n",
        "      sentence_embedding += embeddings\n",
        "    total_words += 1\n",
        "\n",
        "  if total_words > 0:\n",
        "    sentence_embedding /= total_words\n",
        "  return sentence_embedding"
      ]
    },
    {
      "cell_type": "markdown",
      "metadata": {
        "id": "noqxyEiRDP_0"
      },
      "source": [
        "**g)**  **Print** the shape and the first 10 dimensions of `sentence1`'s embedding of the 20th entry in the training set."
      ]
    },
    {
      "cell_type": "code",
      "execution_count": null,
      "metadata": {
        "id": "2fqkit9_Dc-f",
        "colab": {
          "base_uri": "https://localhost:8080/"
        },
        "outputId": "48541f86-e58e-466c-84f2-87c0b609a457"
      },
      "outputs": [
        {
          "output_type": "stream",
          "name": "stdout",
          "text": [
            "A man pours oil into a pot.\n"
          ]
        },
        {
          "output_type": "execute_result",
          "data": {
            "text/plain": [
              "array([-0.03605  , -0.0061875,  0.0339   , -0.0033625, -0.0274375,\n",
              "       -0.0258125,  0.0595   , -0.039825 , -0.06175  , -0.037025 ])"
            ]
          },
          "metadata": {},
          "execution_count": 219
        }
      ],
      "source": [
        "# TODO: YOUR CODE HERE\n",
        "\n",
        "print(sentence1)\n",
        "embedding_tensor = embed_sentence(sentence1, dict)\n",
        "embedding_tensor[:10]"
      ]
    },
    {
      "cell_type": "markdown",
      "metadata": {
        "id": "jvCG_1zHoImu"
      },
      "source": [
        "## **Task 1.1.2: Build Custom Dataset**\n"
      ]
    },
    {
      "cell_type": "markdown",
      "metadata": {
        "id": "yMwXbBHMEZfI"
      },
      "source": [
        "* **Implement a custom dataset class** `MLPDataset` inheriting `torch.utils.data.Dataset` and override the following methods:\n",
        "  1.   `__len__`: which returns the size of the dataset.\n",
        "  2.   `__getitem__`: to support the indexing such that dataset[i] can be used to get ith sample.\n",
        "  \n",
        "      The ith sample should be a Python dict with two entries:\n",
        "    * ` encoding`: the encoding of one sentence pair, which is the concatenation of the embeddings of the two sentences of a pair. E.g., sent1 = [1,2], sent2 = [3,4], the encoding for sent1 and sent2 should be [1,2,3,4].\n",
        "    *   `score `: the similarity score between the two sentences.\n",
        "Hint: examples can be found here: https://pytorch.org/tutorials/beginner/data_loading_tutorial.html\n",
        "\n",
        "\n",
        "\n"
      ]
    },
    {
      "cell_type": "code",
      "execution_count": null,
      "metadata": {
        "id": "XwCm4tRVGjt5"
      },
      "outputs": [],
      "source": [
        "## Encodes each sentence into a single 300 dimension vector\n",
        "class MLPDataset(Dataset):\n",
        "  def __init__(self, sents_1, sents_2, scores, word2emb):\n",
        "    \"\"\"\n",
        "    Arguments:\n",
        "      sents_1 (List[string]): the list of the first sentences.\n",
        "      sents_2 (List[string]): the list of the second sentences.\n",
        "      scores (List[float]): the list of the similarity scores.\n",
        "    \"\"\"\n",
        "    # TODO: YOUR CODE HERE\n",
        "    self.sents_1 = sents_1\n",
        "    self.sents_2 = sents_2\n",
        "    self.scores = scores\n",
        "    self.word2emb = word2emb\n",
        "\n",
        "\n",
        "  def __getitem__(self, idx):\n",
        "    # TODO: YOUR CODE HERE\n",
        "    # np.concatenate(self.sents_1[idx],self.sents_2[idx])\n",
        "    # score = self.scores[idx]\n",
        "    embedding_tensor_1 = embed_sentence(self.sents_1[idx], self.word2emb).astype(np.float32)\n",
        "    embedding_tensor_2 = embed_sentence(self.sents_2[idx], self.word2emb).astype(np.float32)\n",
        "\n",
        "    sample = {'encoding': torch.tensor(np.concatenate((embedding_tensor_1, embedding_tensor_2))),\n",
        "              'score': torch.tensor(np.array(self.scores[idx], dtype=np.float32))}\n",
        "    return sample\n",
        "\n",
        "\n",
        "  def __len__(self):\n",
        "    # TODO: YOUR CODE HERE\n",
        "    return len(self.sents_1)\n"
      ]
    },
    {
      "cell_type": "markdown",
      "metadata": {
        "id": "OcKDmhUqHLX9"
      },
      "source": [
        "**h)**  **Instantiate** the above class for our `train_set` and `dev_set`."
      ]
    },
    {
      "cell_type": "code",
      "execution_count": null,
      "metadata": {
        "id": "RQZte0LpHoL5"
      },
      "outputs": [],
      "source": [
        "# TODO: YOUR CODE HERE\n",
        "sents_1 = train_set['sentence1']\n",
        "sents_2 = train_set['sentence2']\n",
        "scores = train_set['similarity_score']\n",
        "train_dataset = MLPDataset(sents_1, sents_2, scores, dict)\n",
        "\n",
        "sents_1 = dev_set['sentence1']\n",
        "sents_2 = dev_set['sentence2']\n",
        "scores = dev_set['similarity_score']\n",
        "dev_dataset = MLPDataset(sents_1, sents_2, scores, dict)\n"
      ]
    },
    {
      "cell_type": "markdown",
      "metadata": {
        "id": "imlxneaxHZAM"
      },
      "source": [
        "**i)**  **Print** the size of `dev_dataset` and the shape of the encoding of the first example."
      ]
    },
    {
      "cell_type": "code",
      "execution_count": null,
      "metadata": {
        "id": "duSgSzc_Hohb",
        "colab": {
          "base_uri": "https://localhost:8080/"
        },
        "outputId": "a43510f2-53d0-4c9b-e463-deec864660e3"
      },
      "outputs": [
        {
          "output_type": "stream",
          "name": "stdout",
          "text": [
            "Size of dataset: 1500\n"
          ]
        },
        {
          "output_type": "execute_result",
          "data": {
            "text/plain": [
              "tensor([-0.0189, -0.0099, -0.0946,  0.0026, -0.0830,  0.0228,  0.0002, -0.0220,\n",
              "         0.0213,  0.0162])"
            ]
          },
          "metadata": {},
          "execution_count": 222
        }
      ],
      "source": [
        "# TODO: YOUR CODE HERE\n",
        "print(f\"Size of dataset: {len(dev_dataset)}\")\n",
        "sample = dev_dataset[0]\n",
        "sample['encoding'][:10]"
      ]
    },
    {
      "cell_type": "markdown",
      "metadata": {
        "id": "rtcT91VOowHw"
      },
      "source": [
        "## **Task 1.2: Scoring the Similarity**\n",
        "We will train a simple multi-layer perceptron (MLP) to score the similarity of the two sentences."
      ]
    },
    {
      "cell_type": "markdown",
      "metadata": {
        "id": "iVfZ6bboqx-0"
      },
      "source": [
        "### **Task 1.2.1: Build MLP using Pytorch**\n",
        "\n",
        "We will use [`pytorch.nn`](https://pytorch.org/docs/stable/nn.html) to build our MLP.\n",
        "\n",
        "**a)** **Implement a class** `MLP` inheriting [`pytorch.nn.Module`]() for our MLP, which has the following components:\n",
        "\n",
        "- A [linear layer](https://pytorch.org/docs/stable/generated/torch.nn.Linear.html#torch.nn.Linear) with 900 dimensions and [relu activation](https://pytorch.org/docs/stable/generated/torch.nn.ReLU.html#torch.nn.ReLU) , which takes the encoding of one sentence pair as the input.\n",
        "- A [dropout layer](https://pytorch.org/docs/stable/generated/torch.nn.Dropout.html#torch.nn.Dropout) with probability 0.2.\n",
        "- A linear layer with 600 dimensions and relu activation.\n",
        "- A dropout layer with probability 0.2.\n",
        "- A linear layer with 600 dimensions and relu activation.\n",
        "- A dropout layer with probability 0.2.\n",
        "- A linear layer with 1 dimension (output layer).\n",
        "\n",
        "**Hint**:\n",
        "- You need to override the method `forward` in this class\n",
        "- Use `nn.Sequential` to sequentialize the layers.\n",
        "- You may want to see a quick example: https://pytorch.org/tutorials/beginner/basics/buildmodel_tutorial.html?highlight=sequential\n"
      ]
    },
    {
      "cell_type": "code",
      "execution_count": null,
      "metadata": {
        "id": "5jg3wk4KrFDc"
      },
      "outputs": [],
      "source": [
        "class MLP(nn.Module):\n",
        "  def __init__(self):\n",
        "    super(MLP, self).__init__()\n",
        "    # LAYER 1 (Input Layer)\n",
        "    self.layer_1 = nn.Linear(600, 900)\n",
        "    self.relu_layer_1 = nn.ReLU()\n",
        "    self.dropout_layer_1 = nn.Dropout(0.2)\n",
        "\n",
        "    # LAYER 2 (Hidden Layer)\n",
        "    self.layer_2 = nn.Linear(900, 600)\n",
        "    self.relu_layer_2 = nn.ReLU()\n",
        "    self.dropout_layer_2 = nn.Dropout(0.2)\n",
        "\n",
        "    # LAYER 3 (Hidden Layer)\n",
        "    self.layer_3= nn.Linear(600, 600)\n",
        "    self.relu_layer_3 = nn.ReLU()\n",
        "    self.dropout_layer_3 = nn.Dropout(0.2)\n",
        "\n",
        "    # OUTPUT LAYER\n",
        "    self.output_layer = nn.Linear(600, 1)\n",
        "\n",
        "  def forward(self, x):\n",
        "    # TODO: YOUR CODE HERE\n",
        "    x = self.layer_1(x)\n",
        "    x = self.relu_layer_1(x)\n",
        "    x = self.dropout_layer_1(x)\n",
        "\n",
        "    x = self.layer_2(x)\n",
        "    x = self.relu_layer_2(x)\n",
        "    x = self.dropout_layer_2(x)\n",
        "\n",
        "    x = self.layer_3(x)\n",
        "    x = self.relu_layer_3(x)\n",
        "    x = self.dropout_layer_3(x)\n",
        "\n",
        "    x = self.output_layer(x)\n",
        "\n",
        "    return x\n"
      ]
    },
    {
      "cell_type": "markdown",
      "metadata": {
        "id": "AqnDN9bhK12B"
      },
      "source": [
        "**b)**  **Initialize the** `model`of this class and **print** it"
      ]
    },
    {
      "cell_type": "code",
      "execution_count": null,
      "metadata": {
        "id": "UN03iJmJK2kT",
        "colab": {
          "base_uri": "https://localhost:8080/"
        },
        "outputId": "c4e4734f-eeb5-454f-9f97-334838cd92bb"
      },
      "outputs": [
        {
          "output_type": "stream",
          "name": "stdout",
          "text": [
            "MLP(\n",
            "  (layer_1): Linear(in_features=600, out_features=900, bias=True)\n",
            "  (relu_layer_1): ReLU()\n",
            "  (dropout_layer_1): Dropout(p=0.2, inplace=False)\n",
            "  (layer_2): Linear(in_features=900, out_features=600, bias=True)\n",
            "  (relu_layer_2): ReLU()\n",
            "  (dropout_layer_2): Dropout(p=0.2, inplace=False)\n",
            "  (layer_3): Linear(in_features=600, out_features=600, bias=True)\n",
            "  (relu_layer_3): ReLU()\n",
            "  (dropout_layer_3): Dropout(p=0.2, inplace=False)\n",
            "  (output_layer): Linear(in_features=600, out_features=1, bias=True)\n",
            ")\n"
          ]
        }
      ],
      "source": [
        "# TODO : YOUR CODE HERE\n",
        "model = MLP()\n",
        "print(model)"
      ]
    },
    {
      "cell_type": "markdown",
      "metadata": {
        "id": "7IwxQMfN2ZKJ"
      },
      "source": [
        "### **Task 1.2.2: Train MLP with Pytorch**\n"
      ]
    },
    {
      "cell_type": "markdown",
      "metadata": {
        "id": "9Kq-zvfwM-20"
      },
      "source": [
        "The method for training is provided below, which returns the list of the train loss at all epochs and the trained model.\n",
        "*  **Run the code below**"
      ]
    },
    {
      "cell_type": "code",
      "execution_count": null,
      "metadata": {
        "id": "E2kaX-J7L-HR"
      },
      "outputs": [],
      "source": [
        "def train(model, train_dataloader, eval_dataloader, optimizer, loss_fn, num_epochs, device='cuda'):\n",
        "\n",
        "  train_losses = []\n",
        "\n",
        "  for epoch in range(num_epochs):\n",
        "\n",
        "    if epoch == 0:\n",
        "      model.eval()\n",
        "      loss_per_epoch = 0\n",
        "      for batch_data in train_dataloader:\n",
        "        with torch.inference_mode():\n",
        "          predictions = model(batch_data['encoding'].to(device))\n",
        "          targets = batch_data['score'].to(device) # only if device='cuda'\n",
        "          train_loss = loss_fn(predictions.squeeze(), targets)\n",
        "          loss_per_epoch += train_loss.item()\n",
        "      loss_per_epoch = loss_per_epoch/len(train_dataloader)\n",
        "      train_losses.append(loss_per_epoch)\n",
        "      print(f'\\ninital train loss: {loss_per_epoch}')\n",
        "\n",
        "    model.train()\n",
        "    loss_per_epoch = 0\n",
        "    for batch_data in train_dataloader:\n",
        "      predictions = model(batch_data['encoding'].to(device))\n",
        "      targets = batch_data['score'].to(device) # only if device='cuda'\n",
        "      train_loss = loss_fn(predictions.squeeze(), targets)\n",
        "      loss_per_epoch += train_loss.item()\n",
        "\n",
        "      optimizer.zero_grad()\n",
        "      train_loss.backward()\n",
        "      optimizer.step()\n",
        "\n",
        "    loss_per_epoch = loss_per_epoch/len(train_dataloader)\n",
        "    train_losses.append(loss_per_epoch)\n",
        "    print(f'\\n Epoch {epoch+1} train loss: {loss_per_epoch}')\n",
        "    #evaluate(model, eval_dataloader, loss_func)\n",
        "\n",
        "  return train_losses, model"
      ]
    },
    {
      "cell_type": "markdown",
      "metadata": {
        "id": "Hr8ev4DokuYI"
      },
      "source": [
        "**c)** **Define the corresponding hyperparameters**\n",
        "  *   Number of training epochs are 15\n",
        "  *   Batch Size is 128\n",
        "  *   Learning Rate is 2e-03\n",
        "\n"
      ]
    },
    {
      "cell_type": "code",
      "execution_count": null,
      "metadata": {
        "id": "HepUUs9CPgAb"
      },
      "outputs": [],
      "source": [
        "# Set random seeds; do not change this!\n",
        "seed_everything(seed=999)\n",
        "\n",
        "# TODO: YOUR CODE BELOW\n",
        "epochs = 15\n",
        "batch_size = 128\n",
        "lr = 0.002"
      ]
    },
    {
      "cell_type": "markdown",
      "metadata": {
        "id": "kobxOBiQPi5o"
      },
      "source": [
        "\n",
        "**d)**   **Create Dataloaders** considering following information\n",
        "  * `train_dataloader` : reshuffle at every epoch\n",
        "  * `dev_dataloader` : batch size is 512\n",
        "\n",
        "**Hint:** batch size of train dataloader is different than dev dataloader\n"
      ]
    },
    {
      "cell_type": "code",
      "execution_count": 237,
      "metadata": {
        "id": "HhMXB63XQHKS"
      },
      "outputs": [],
      "source": [
        "train_dataloader = DataLoader(train_dataset, batch_size=batch_size, shuffle=True)\n",
        "dev_dataloader = DataLoader(dev_dataset, batch_size=512, shuffle=False)"
      ]
    },
    {
      "cell_type": "markdown",
      "metadata": {
        "id": "DPqThv7wQiaW"
      },
      "source": [
        "\n",
        "**e)**   **Define** Optimizer as AdmW and Loss function as Mean Square Error"
      ]
    },
    {
      "cell_type": "code",
      "execution_count": 238,
      "metadata": {
        "id": "y1Mr2rzWMmOC",
        "colab": {
          "base_uri": "https://localhost:8080/"
        },
        "outputId": "46ea77ca-f9da-4238-bec5-40eb35c646a6"
      },
      "outputs": [
        {
          "output_type": "execute_result",
          "data": {
            "text/plain": [
              "MLP(\n",
              "  (layer_1): Linear(in_features=600, out_features=900, bias=True)\n",
              "  (relu_layer_1): ReLU()\n",
              "  (dropout_layer_1): Dropout(p=0.2, inplace=False)\n",
              "  (layer_2): Linear(in_features=900, out_features=600, bias=True)\n",
              "  (relu_layer_2): ReLU()\n",
              "  (dropout_layer_2): Dropout(p=0.2, inplace=False)\n",
              "  (layer_3): Linear(in_features=600, out_features=600, bias=True)\n",
              "  (relu_layer_3): ReLU()\n",
              "  (dropout_layer_3): Dropout(p=0.2, inplace=False)\n",
              "  (output_layer): Linear(in_features=600, out_features=1, bias=True)\n",
              ")"
            ]
          },
          "metadata": {},
          "execution_count": 238
        }
      ],
      "source": [
        "# Initialize the model\n",
        "device = 'cuda' # \"cpu\"\n",
        "model = MLP()\n",
        "model.to(device)\n",
        "optimizer = torch.optim.AdamW(model.parameters(), lr = lr)\n",
        "loss_function = nn.MSELoss()\n",
        "model"
      ]
    },
    {
      "cell_type": "markdown",
      "metadata": {
        "id": "UUKHCaNQROni"
      },
      "source": [
        "\n",
        "\n",
        "**f)**   Use the train function with the hyperparameters above to **store training losses and the model** in variables called:\n",
        "  * `train_losses`\n",
        "  * `model`\n",
        "\n"
      ]
    },
    {
      "cell_type": "code",
      "execution_count": 239,
      "metadata": {
        "id": "6Cqq8lX7RMyk",
        "colab": {
          "base_uri": "https://localhost:8080/"
        },
        "outputId": "f234ad28-b144-4a8b-e9d6-9b752bafcba8"
      },
      "outputs": [
        {
          "output_type": "stream",
          "name": "stdout",
          "text": [
            "\n",
            "inital train loss: 9.208431953854031\n",
            "\n",
            " Epoch 1 train loss: 3.416425969865587\n",
            "\n",
            " Epoch 2 train loss: 2.005277681350708\n",
            "\n",
            " Epoch 3 train loss: 1.9153745280371772\n",
            "\n",
            " Epoch 4 train loss: 1.8395783530341254\n",
            "\n",
            " Epoch 5 train loss: 1.7408636967341105\n",
            "\n",
            " Epoch 6 train loss: 1.6397544278038874\n",
            "\n",
            " Epoch 7 train loss: 1.4851547903484767\n",
            "\n",
            " Epoch 8 train loss: 1.401376634173923\n",
            "\n",
            " Epoch 9 train loss: 1.1833744949764675\n",
            "\n",
            " Epoch 10 train loss: 1.0795892490280998\n",
            "\n",
            " Epoch 11 train loss: 0.9418029361300998\n",
            "\n",
            " Epoch 12 train loss: 0.8530786421563891\n",
            "\n",
            " Epoch 13 train loss: 0.7792763696776496\n",
            "\n",
            " Epoch 14 train loss: 0.6727953692277272\n",
            "\n",
            " Epoch 15 train loss: 0.6129330151610904\n"
          ]
        }
      ],
      "source": [
        "# TODO: YOUR CODE HERE\n",
        "train_losses, model = train(model, train_dataloader, dev_dataloader, optimizer, loss_function, epochs, device=device)"
      ]
    },
    {
      "cell_type": "markdown",
      "metadata": {
        "id": "MBVZrPD1NmyS"
      },
      "source": [
        "**g)** **Plot** the training loss using `matplotlib.pyplot.plot` (Plotting takes time - consider waiting!)\n"
      ]
    },
    {
      "cell_type": "code",
      "execution_count": 240,
      "metadata": {
        "id": "v2rSnoL5NxIx",
        "colab": {
          "base_uri": "https://localhost:8080/",
          "height": 418
        },
        "outputId": "418f1d18-0255-4180-f2c4-86a6b737fb53"
      },
      "outputs": [
        {
          "output_type": "display_data",
          "data": {
            "text/plain": [
              "<Figure size 1500x500 with 1 Axes>"
            ],
            "image/png": "[encoded data removed]"
          },
          "metadata": {}
        }
      ],
      "source": [
        "plt.figure(figsize=(15, 5))\n",
        "plt.plot(train_losses, label='Training Loss')\n",
        "plt.xlabel('Epoch')\n",
        "plt.ylabel('Loss')\n",
        "plt.title('Training Loss over Epochs')\n",
        "plt.legend()\n",
        "plt.show()"
      ]
    },
    {
      "cell_type": "markdown",
      "metadata": {
        "id": "6G-VQMzJlIC3"
      },
      "source": [
        "**h)** **Implement** another MLP architecture using [`pytorch.nn.Module`](), which has the following components:\n",
        "- A [linear layer](https://pytorch.org/docs/stable/generated/torch.nn.Linear.html#torch.nn.Linear) with 1,200 dimensions and [relu activation](https://pytorch.org/docs/stable/generated/torch.nn.ReLU.html#torch.nn.ReLU) , which takes the encoding of one sentence pair as the input.\n",
        "- A linear layer with 300 dimensions and relu activation.\n",
        "- A linear layer with 300 dimensions and relu activation.\n",
        "- A linear layer with 1 dimension (output layer)."
      ]
    },
    {
      "cell_type": "code",
      "execution_count": 241,
      "metadata": {
        "id": "fURghifFOhXg"
      },
      "outputs": [],
      "source": [
        "class MLP_2(nn.Module):\n",
        "  def __init__(self):\n",
        "    super(MLP_2, self).__init__()\n",
        "    # LAYER 1 (Input Layer)\n",
        "    self.layer_1 = nn.Linear(600, 1200)\n",
        "    self.relu_layer_1 = nn.ReLU()\n",
        "    # self.dropout_layer_1 = nn.Dropout(0.2)\n",
        "\n",
        "    # LAYER 2 (Hidden Layer)\n",
        "    self.layer_2 = nn.Linear(1200, 300)\n",
        "    self.relu_layer_2 = nn.ReLU()\n",
        "    # self.dropout_layer_2 = nn.Dropout(0.2)\n",
        "\n",
        "    # LAYER 3 (Hidden Layer)\n",
        "    self.layer_3= nn.Linear(300, 300)\n",
        "    self.relu_layer_3 = nn.ReLU()\n",
        "    # self.dropout_layer_3 = nn.Dropout(0.2)\n",
        "\n",
        "    # OUTPUT LAYER\n",
        "    self.output_layer = nn.Linear(300, 1)\n",
        "\n",
        "  def forward(self, x):\n",
        "    # TODO: YOUR CODE HERE\n",
        "    x = self.layer_1(x)\n",
        "    x = self.relu_layer_1(x)\n",
        "    # x = self.dropout_layer_1(x)\n",
        "\n",
        "    x = self.layer_2(x)\n",
        "    x = self.relu_layer_2(x)\n",
        "    # x = self.dropout_layer_2(x)\n",
        "\n",
        "    x = self.layer_3(x)\n",
        "    x = self.relu_layer_3(x)\n",
        "    # x = self.dropout_layer_3(x)\n",
        "\n",
        "    x = self.output_layer(x)\n",
        "\n",
        "    return x\n"
      ]
    },
    {
      "cell_type": "markdown",
      "metadata": {
        "id": "NCw1OoXVySSA"
      },
      "source": [
        "**i)** **Initialize and train** the new class with the function from above"
      ]
    },
    {
      "cell_type": "code",
      "execution_count": 242,
      "metadata": {
        "id": "CDkYBAc-yMp8",
        "colab": {
          "base_uri": "https://localhost:8080/"
        },
        "outputId": "48699d65-cb7d-4f3e-e6ad-dcd5f6620fa9"
      },
      "outputs": [
        {
          "output_type": "stream",
          "name": "stdout",
          "text": [
            "MLP_2(\n",
            "  (layer_1): Linear(in_features=600, out_features=1200, bias=True)\n",
            "  (relu_layer_1): ReLU()\n",
            "  (layer_2): Linear(in_features=1200, out_features=300, bias=True)\n",
            "  (relu_layer_2): ReLU()\n",
            "  (layer_3): Linear(in_features=300, out_features=300, bias=True)\n",
            "  (relu_layer_3): ReLU()\n",
            "  (output_layer): Linear(in_features=300, out_features=1, bias=True)\n",
            ")\n",
            "\n",
            "inital train loss: 9.375911818610298\n",
            "\n",
            " Epoch 1 train loss: 2.8990190108617147\n",
            "\n",
            " Epoch 2 train loss: 1.960336931546529\n",
            "\n",
            " Epoch 3 train loss: 1.8576006571451822\n",
            "\n",
            " Epoch 4 train loss: 1.73970115714603\n",
            "\n",
            " Epoch 5 train loss: 1.5951750569873386\n",
            "\n",
            " Epoch 6 train loss: 1.4455084244410197\n",
            "\n",
            " Epoch 7 train loss: 1.2893674559063382\n",
            "\n",
            " Epoch 8 train loss: 1.0706761121749877\n",
            "\n",
            " Epoch 9 train loss: 0.9218517131275601\n",
            "\n",
            " Epoch 10 train loss: 0.7695131738980611\n",
            "\n",
            " Epoch 11 train loss: 0.7235391332043541\n",
            "\n",
            " Epoch 12 train loss: 0.5479873392317031\n",
            "\n",
            " Epoch 13 train loss: 0.4272974133491516\n",
            "\n",
            " Epoch 14 train loss: 0.33004485070705414\n",
            "\n",
            " Epoch 15 train loss: 0.2735815465450287\n"
          ]
        }
      ],
      "source": [
        "# TODO: YOUR CODE HERE\n",
        "model2 = MLP_2()\n",
        "print(model2)\n",
        "model2 = model2.to(\"cuda\")\n",
        "optimizer = torch.optim.AdamW(model2.parameters(), lr = lr)\n",
        "train_losses_second_model, model2 = train(model2, train_dataloader, dev_dataloader, optimizer, loss_function, epochs, device=device)\n"
      ]
    },
    {
      "cell_type": "markdown",
      "metadata": {
        "id": "OPJnjGNB6wLO"
      },
      "source": [
        "**j)** **Plot** the loss curve both the first and the second model (you can reuse your code from above)"
      ]
    },
    {
      "cell_type": "code",
      "execution_count": 243,
      "metadata": {
        "id": "2XbA520K6wku",
        "colab": {
          "base_uri": "https://localhost:8080/",
          "height": 872
        },
        "outputId": "cc11c30a-3ee1-4ce4-fb03-4a05b2391f07"
      },
      "outputs": [
        {
          "output_type": "display_data",
          "data": {
            "text/plain": [
              "<Figure size 800x1000 with 1 Axes>"
            ],
            "image/png": "[encoded data removed]"
          },
          "metadata": {}
        }
      ],
      "source": [
        "plt.figure(figsize=(8, 10))\n",
        "plt.plot(train_losses, label='Training Loss MLP')\n",
        "plt.plot(train_losses_second_model, label='Training Loss MLP_2')\n",
        "\n",
        "plt.xlabel('Epoch')\n",
        "plt.ylabel('Loss')\n",
        "plt.title('Training Loss over Epochs')\n",
        "plt.legend()\n",
        "plt.show()"
      ]
    },
    {
      "cell_type": "markdown",
      "metadata": {
        "id": "mduY1xbWyzNb"
      },
      "source": [
        "**k)** **Compare** the difference in the architectures and their corresponding losses. Describe what might have caused these changes."
      ]
    },
    {
      "cell_type": "markdown",
      "source": [
        "##Differences in the architectures summarized:\n",
        "###1. Dropout Layers: MLP uses dropout layers, while MLP_2 does not.\n",
        "###2. Layer Sizes: MLP_2 has a larger first layer compared to MLP.\n",
        "\n",
        "\n",
        "The increased capacity of MLP_2 due to a larger input layer may be compensating for dropout's absence, leading to somewhat similar performance as MLP. In any case, MLP_2 converges more."
      ],
      "metadata": {
        "id": "LL2cNgsmy_AB"
      }
    }
  ],
  "metadata": {
    "colab": {
      "provenance": [],
      "toc_visible": true,
      "gpuType": "T4",
      "include_colab_link": true
    },
    "kernelspec": {
      "display_name": "Python 3",
      "name": "python3"
    },
    "language_info": {
      "name": "python"
    },
    "accelerator": "GPU"
  },
  "nbformat": 4,
  "nbformat_minor": 0
}